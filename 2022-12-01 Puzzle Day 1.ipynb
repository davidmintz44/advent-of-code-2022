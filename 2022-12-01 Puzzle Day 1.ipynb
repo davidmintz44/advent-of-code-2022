{
 "cells": [
  {
   "cell_type": "markdown",
   "id": "d7d0b396",
   "metadata": {},
   "source": [
    "# Advent of Code\n",
    "## Day 1: Calorie Counting\n",
    "\n",
    "Santa's reindeer typically eat regular reindeer food, but they need a lot of magical energy to deliver presents on Christmas. For that, their favorite snack is a special type of star fruit that only grows deep in the jungle. The Elves have brought you on their annual expedition to the grove where the fruit grows.\n",
    "\n",
    "To supply enough magical energy, the expedition needs to retrieve a minimum of fifty stars by December 25th. Although the Elves assure you that the grove has plenty of fruit, you decide to grab any fruit you see along the way, just in case.\n",
    "\n",
    "Collect stars by solving puzzles. Two puzzles will be made available on each day in the Advent calendar; the second puzzle is unlocked when you complete the first. Each puzzle grants one star. Good luck!\n",
    "\n",
    "### Part 1\n",
    "\n",
    "The jungle must be too overgrown and difficult to navigate in vehicles or access from the air; the Elves' expedition traditionally goes on foot. As your boats approach land, the Elves begin taking inventory of their supplies. One important consideration is food - in particular, the number of Calories each Elf is carrying (your puzzle input).\n",
    "\n",
    "The Elves take turns writing down the number of Calories contained by the various meals, snacks, rations, etc. that they've brought with them, one item per line. Each Elf separates their own inventory from the previous Elf's inventory (if any) by a blank line.\n",
    "\n",
    "For example, suppose the Elves finish writing their items' Calories and end up with the following list:\n",
    "\n",
    "`\n",
    "1000\n",
    "2000\n",
    "3000\n",
    "`\n",
    "\n",
    "`\n",
    "4000\n",
    "`\n",
    "\n",
    "`\n",
    "5000\n",
    "6000\n",
    "`\n",
    "\n",
    "`\n",
    "7000\n",
    "8000\n",
    "9000\n",
    "`\n",
    "\n",
    "`\n",
    "10000\n",
    "`\n",
    "\n",
    "This list represents the Calories of the food carried by five Elves:\n",
    "\n",
    "- The first Elf is carrying food with `1000`, `2000`, and `3000` Calories, a total of `6000` Calories.\n",
    "- The second Elf is carrying one food item with `4000` Calories.\n",
    "- The third Elf is carrying food with `5000` and `6000` Calories, a total of `11000` Calories.\n",
    "- The fourth Elf is carrying food with `7000`, `8000`, and `9000` Calories, a total of `24000` Calories.\n",
    "- The fifth Elf is carrying one food item with `10000` Calories.\n",
    "\n",
    "In case the Elves get hungry and need extra snacks, they need to know which Elf to ask: they'd like to know how many Calories are being carried by the Elf carrying the most Calories. In the example above, this is `24000` (carried by the fourth Elf).\n",
    "\n",
    "Find the Elf carrying the most Calories. How many total Calories is that Elf carrying?"
   ]
  },
  {
   "cell_type": "code",
   "execution_count": 1,
   "id": "fa1794f6",
   "metadata": {},
   "outputs": [
    {
     "name": "stdout",
     "output_type": "stream",
     "text": [
      "The winning elf is number: 4\n",
      "The maximum number of calories is: 24000\n"
     ]
    }
   ],
   "source": [
    "# Test\n",
    "\n",
    "# Set up the data\n",
    "test_input = [1000, 2000, 3000, 'x', 4000, 'x', 5000, 6000, 'x', 7000, 8000, 9000, 'x', 10000]\n",
    "test_output = [0]\n",
    "\n",
    "# Count the elves\n",
    "elf_number = 0\n",
    "\n",
    "for i in range(len(test_input)):\n",
    "    if test_input[i] == 'x':\n",
    "        elf_number += 1\n",
    "        test_output.append(0)\n",
    "        next\n",
    "    else:\n",
    "        test_output[elf_number] += test_input[i]\n",
    "        \n",
    "max_calories = max(test_output)\n",
    "winning_elf = test_output.index(max_calories) + 1\n",
    "\n",
    "print('The winning elf is number:', winning_elf)\n",
    "print('The maximum number of calories is:', max_calories)"
   ]
  },
  {
   "cell_type": "code",
   "execution_count": 2,
   "id": "dd3f3723",
   "metadata": {},
   "outputs": [
    {
     "name": "stdout",
     "output_type": "stream",
     "text": [
      "2256\n"
     ]
    }
   ],
   "source": [
    "# Read in the data\n",
    "with open('Day 1 input.txt', 'r') as f:\n",
    "    my_input = []\n",
    "    for item in f:\n",
    "        if item == '\\n':\n",
    "            my_input.append('x')\n",
    "        else:\n",
    "            my_input.append(int(item))\n",
    "\n",
    "print(len(my_input))"
   ]
  },
  {
   "cell_type": "code",
   "execution_count": 3,
   "id": "a62d22ff",
   "metadata": {},
   "outputs": [
    {
     "name": "stdout",
     "output_type": "stream",
     "text": [
      "The winning elf is number: 186\n",
      "The maximum number of calories is: 72511\n"
     ]
    }
   ],
   "source": [
    "my_output = [0]\n",
    "\n",
    "# Count the elves\n",
    "elf_number = 0\n",
    "\n",
    "for i in range(len(my_input)):\n",
    "    if my_input[i] == 'x':\n",
    "        elf_number += 1\n",
    "        my_output.append(0)\n",
    "        next\n",
    "    else:\n",
    "        my_output[elf_number] += my_input[i]\n",
    "        \n",
    "max_calories = max(my_output)\n",
    "winning_elf = my_output.index(max_calories) + 1\n",
    "\n",
    "print('The winning elf is number:', winning_elf)\n",
    "print('The maximum number of calories is:', max_calories)"
   ]
  },
  {
   "cell_type": "markdown",
   "id": "798c436b",
   "metadata": {},
   "source": [
    "### Part 2\n",
    "\n",
    "By the time you calculate the answer to the Elves' question, they've already realized that the Elf carrying the most Calories of food might eventually run out of snacks.\n",
    "\n",
    "To avoid this unacceptable situation, the Elves would instead like to know the total Calories carried by the top three Elves carrying the most Calories. That way, even if one of those Elves runs out of snacks, they still have two backups.\n",
    "\n",
    "In the example above, the top three Elves are the fourth Elf (with 24000 Calories), then the third Elf (with 11000 Calories), then the fifth Elf (with 10000 Calories). The sum of the Calories carried by these three elves is 45000.\n",
    "\n",
    "Find the top three Elves carrying the most Calories. How many Calories are those Elves carrying in total?"
   ]
  },
  {
   "cell_type": "code",
   "execution_count": 4,
   "id": "c30b271d",
   "metadata": {},
   "outputs": [
    {
     "name": "stdout",
     "output_type": "stream",
     "text": [
      "The calories from the top three elves are 212117\n"
     ]
    }
   ],
   "source": [
    "my_output_order = sorted(my_output, reverse=True)\n",
    "top_three = 0\n",
    "\n",
    "for i in range(3):\n",
    "    top_three += my_output_order[i]\n",
    "\n",
    "print('The calories from the top three elves are', top_three)"
   ]
  },
  {
   "cell_type": "markdown",
   "id": "b2174494",
   "metadata": {},
   "source": [
    "### Run Time"
   ]
  },
  {
   "cell_type": "code",
   "execution_count": 5,
   "id": "2a2f35a1",
   "metadata": {},
   "outputs": [
    {
     "name": "stdout",
     "output_type": "stream",
     "text": [
      "1.36 ms ± 274 µs per loop (mean ± std. dev. of 7 runs, 1000 loops each)\n"
     ]
    }
   ],
   "source": [
    "%%timeit\n",
    "my_output = [0]\n",
    "\n",
    "# Count the elves\n",
    "elf_number = 0\n",
    "\n",
    "for i in range(len(my_input)):\n",
    "    if my_input[i] == 'x':\n",
    "        elf_number += 1\n",
    "        my_output.append(0)\n",
    "        next\n",
    "    else:\n",
    "        my_output[elf_number] += my_input[i]\n",
    "        \n",
    "max_calories = max(my_output)\n",
    "winning_elf = my_output.index(max_calories) + 1\n",
    "\n",
    "# print('The winning elf is number:', winning_elf)\n",
    "# print('The maximum number of calories is:', max_calories)"
   ]
  },
  {
   "cell_type": "code",
   "execution_count": 6,
   "id": "16d9d48c",
   "metadata": {},
   "outputs": [
    {
     "name": "stdout",
     "output_type": "stream",
     "text": [
      "27.2 µs ± 10.9 µs per loop (mean ± std. dev. of 7 runs, 100000 loops each)\n"
     ]
    }
   ],
   "source": [
    "%%timeit\n",
    "my_output_order = sorted(my_output, reverse=True)\n",
    "top_three = 0\n",
    "\n",
    "for i in range(3):\n",
    "    top_three += my_output_order[i]\n",
    "\n",
    "# print('The calories from the top three elves are', top_three)"
   ]
  }
 ],
 "metadata": {
  "kernelspec": {
   "display_name": "Python 3 (ipykernel)",
   "language": "python",
   "name": "python3"
  },
  "language_info": {
   "codemirror_mode": {
    "name": "ipython",
    "version": 3
   },
   "file_extension": ".py",
   "mimetype": "text/x-python",
   "name": "python",
   "nbconvert_exporter": "python",
   "pygments_lexer": "ipython3",
   "version": "3.8.8"
  }
 },
 "nbformat": 4,
 "nbformat_minor": 5
}
