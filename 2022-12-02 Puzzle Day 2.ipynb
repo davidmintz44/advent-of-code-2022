{
 "cells": [
  {
   "cell_type": "markdown",
   "id": "d7d0b396",
   "metadata": {},
   "source": [
    "# Advent of Code\n",
    "## Day 2: Rock, Paper, Scissors\n",
    "\n",
    "### Part 1\n",
    "\n",
    "The Elves begin to set up camp on the beach. To decide whose tent gets to be closest to the snack storage, a giant Rock Paper Scissors tournament is already in progress.\n",
    "\n",
    "Rock Paper Scissors is a game between two players. Each game contains many rounds; in each round, the players each simultaneously choose one of Rock, Paper, or Scissors using a hand shape. Then, a winner for that round is selected: Rock defeats Scissors, Scissors defeats Paper, and Paper defeats Rock. If both players choose the same shape, the round instead ends in a draw.\n",
    "\n",
    "Appreciative of your help yesterday, one Elf gives you an encrypted strategy guide (your puzzle input) that they say will be sure to help you win. \"The first column is what your opponent is going to play: A for Rock, B for Paper, and C for Scissors. The second column--\" Suddenly, the Elf is called away to help with someone's tent.\n",
    "\n",
    "The second column, you reason, must be what you should play in response: X for Rock, Y for Paper, and Z for Scissors. Winning every time would be suspicious, so the responses must have been carefully chosen.\n",
    "\n",
    "The winner of the whole tournament is the player with the highest score. Your total score is the sum of your scores for each round. The score for a single round is the score for the shape you selected (1 for Rock, 2 for Paper, and 3 for Scissors) plus the score for the outcome of the round (0 if you lost, 3 if the round was a draw, and 6 if you won).\n",
    "\n",
    "Since you can't be sure if the Elf is trying to help you or trick you, you should calculate the score you would get if you were to follow the strategy guide.\n",
    "\n",
    "For example, suppose you were given the following strategy guide:\n",
    "\n",
    "`\n",
    "A Y\n",
    "B X\n",
    "C Z\n",
    "`\n",
    "\n",
    "This strategy guide predicts and recommends the following:\n",
    "\n",
    "- In the first round, your opponent will choose Rock (A), and you should choose Paper (Y). This ends in a win for you with a score of 8 (2 because you chose Paper + 6 because you won).\n",
    "- In the second round, your opponent will choose Paper (B), and you should choose Rock (X). This ends in a loss for you with a score of 1 (1 + 0).\n",
    "- The third round is a draw with both players choosing Scissors, giving you a score of 3 + 3 = 6.\n",
    "\n",
    "In this example, if you were to follow the strategy guide, you would get a total score of 15 (8 + 1 + 6).\n",
    "\n",
    "What would your total score be if everything goes exactly according to your strategy guide?"
   ]
  },
  {
   "cell_type": "code",
   "execution_count": 1,
   "id": "fa1794f6",
   "metadata": {},
   "outputs": [
    {
     "name": "stdout",
     "output_type": "stream",
     "text": [
      "Final score: 15 points\n"
     ]
    }
   ],
   "source": [
    "# Test\n",
    "\n",
    "# Set up the data\n",
    "test_input = ['A Y', 'B X', 'C Z']\n",
    "\n",
    "mapping = {'A':'R', 'B':'P', 'C':'S', 'X':'R', 'Y':'P', 'Z':'S', 'R':1, 'P':2, 'S':3}\n",
    "your_score = 0\n",
    "\n",
    "for c in range(len(test_input)):\n",
    "    elf_choice = mapping[test_input[c][0]]\n",
    "    your_choice = mapping[test_input[c][-1]]\n",
    "    # print('Round', c+1)\n",
    "    # print('Elf says', elf_choice)\n",
    "    # print('You say', your_choice, 'and you gain', mapping[your_choice], 'points!')\n",
    "    your_score += mapping[your_choice]\n",
    "    if ( (elf_choice == 'S' and your_choice == 'R') or\n",
    "         (elf_choice == 'P' and your_choice == 'S') or\n",
    "         (elf_choice == 'R' and your_choice == 'P') ):\n",
    "        # print('You win! - 6 points')\n",
    "        your_score += 6\n",
    "    elif elf_choice == your_choice:\n",
    "        # print('You draw! - 3 points')\n",
    "        your_score += 3\n",
    "    else:\n",
    "        None\n",
    "        # print('You lose! - 0 points')\n",
    "    # print('Your score:', your_score)\n",
    "    # print('-----')\n",
    "print('Final score:', your_score, 'points')"
   ]
  },
  {
   "cell_type": "code",
   "execution_count": 2,
   "id": "dd3f3723",
   "metadata": {},
   "outputs": [
    {
     "name": "stdout",
     "output_type": "stream",
     "text": [
      "2500\n"
     ]
    }
   ],
   "source": [
    "# Read in the data\n",
    "with open('Day 2 input.txt', 'r') as f:\n",
    "    my_input = []\n",
    "    for item in f:\n",
    "        my_input.append(item[0:3])\n",
    "\n",
    "print(len(my_input))"
   ]
  },
  {
   "cell_type": "code",
   "execution_count": 3,
   "id": "a62d22ff",
   "metadata": {},
   "outputs": [
    {
     "name": "stdout",
     "output_type": "stream",
     "text": [
      "Final score: 11841 points\n"
     ]
    }
   ],
   "source": [
    "mapping = {'A':'R', 'B':'P', 'C':'S', 'X':'R', 'Y':'P', 'Z':'S', 'R':1, 'P':2, 'S':3}\n",
    "your_score = 0\n",
    "\n",
    "for c in range(len(my_input)):\n",
    "    elf_choice = mapping[my_input[c][0]]\n",
    "    your_choice = mapping[my_input[c][-1]]\n",
    "    # print('Round', c+1)\n",
    "    # print('Elf says', elf_choice)\n",
    "    # print('You say', your_choice, 'and you gain', mapping[your_choice], 'points!')\n",
    "    your_score += mapping[your_choice]\n",
    "    if ( (elf_choice == 'S' and your_choice == 'R') or\n",
    "         (elf_choice == 'P' and your_choice == 'S') or\n",
    "         (elf_choice == 'R' and your_choice == 'P') ):\n",
    "        # print('You win! - 6 points')\n",
    "        your_score += 6\n",
    "    elif elf_choice == your_choice:\n",
    "        # print('You draw! - 3 points')\n",
    "        your_score += 3\n",
    "    else:\n",
    "        None\n",
    "        # print('You lose! - 0 points')\n",
    "    # print('Your score:', your_score)\n",
    "    # print('-----')\n",
    "print('Final score:', your_score, 'points')"
   ]
  },
  {
   "cell_type": "markdown",
   "id": "798c436b",
   "metadata": {},
   "source": [
    "### Part 2\n",
    "\n",
    "The Elf finishes helping with the tent and sneaks back over to you. \"Anyway, the second column says how the round needs to end: X means you need to lose, Y means you need to end the round in a draw, and Z means you need to win. Good luck!\"\n",
    "\n",
    "The total score is still calculated in the same way, but now you need to figure out what shape to choose so the round ends as indicated. The example above now goes like this:\n",
    "\n",
    "- In the first round, your opponent will choose Rock (A), and you need the round to end in a draw (Y), so you also choose Rock. This gives you a score of 1 + 3 = 4.\n",
    "- In the second round, your opponent will choose Paper (B), and you choose Rock so you lose (X) with a score of 1 + 0 = 1.\n",
    "- In the third round, you will defeat your opponent's Scissors with Rock for a score of 1 + 6 = 7.\n",
    "\n",
    "Now that you're correctly decrypting the ultra top secret strategy guide, you would get a total score of 12.\n",
    "\n",
    "Following the Elf's instructions for the second column, what would your total score be if everything goes exactly according to your strategy guide?"
   ]
  },
  {
   "cell_type": "code",
   "execution_count": 4,
   "id": "c30b271d",
   "metadata": {},
   "outputs": [
    {
     "name": "stdout",
     "output_type": "stream",
     "text": [
      "Round 1\n",
      "Elf says R\n",
      "You need to D\n",
      "Your score is now 3\n",
      "Your score: 4\n",
      "-----\n",
      "Round 2\n",
      "Elf says P\n",
      "You need to L\n",
      "Your score is now 4\n",
      "Your score: 5\n",
      "-----\n",
      "Round 3\n",
      "Elf says S\n",
      "You need to W\n",
      "Your score is now 11\n",
      "Your score: 12\n",
      "-----\n",
      "Final score: 12 points\n"
     ]
    }
   ],
   "source": [
    "# Test part 2\n",
    "\n",
    "# Set up the data\n",
    "test_input = ['A Y', 'B X', 'C Z']\n",
    "\n",
    "mapping = {'A':'R', 'B':'P', 'C':'S', 'X':'L', 'Y':'D', 'Z':'W', 'R':1, 'P':2, 'S':3, 'W':6, 'D':3, 'L':0}\n",
    "\n",
    "mapping_win = {'R':'P', 'P':'S', 'S':'R'}\n",
    "mapping_lose = {'R':'S', 'P':'R', 'S':'P'}\n",
    "\n",
    "your_score = 0\n",
    "\n",
    "for c in range(len(test_input)):\n",
    "    elf_choice = mapping[test_input[c][0]]\n",
    "    your_outcome = mapping[test_input[c][-1]]\n",
    "    print('Round', c+1)\n",
    "    print('Elf says', elf_choice)\n",
    "    print('You need to', your_outcome)\n",
    "    \n",
    "    your_score += mapping[your_outcome]\n",
    "    print('Your score is now', your_score)\n",
    "    \n",
    "    if your_outcome == 'D':\n",
    "        your_score += mapping[elf_choice]\n",
    "    elif your_outcome == 'W':\n",
    "        your_score += mapping[mapping_win[elf_choice]]\n",
    "    else:\n",
    "        your_score += mapping[mapping_lose[elf_choice]]\n",
    "    print('Your score:', your_score)\n",
    "    print('-----')\n",
    "print('Final score:', your_score, 'points')"
   ]
  },
  {
   "cell_type": "code",
   "execution_count": 5,
   "id": "5a0e3590",
   "metadata": {},
   "outputs": [
    {
     "name": "stdout",
     "output_type": "stream",
     "text": [
      "Final score: 13022 points\n"
     ]
    }
   ],
   "source": [
    "mapping = {'A':'R', 'B':'P', 'C':'S', 'X':'L', 'Y':'D', 'Z':'W', 'R':1, 'P':2, 'S':3, 'W':6, 'D':3, 'L':0}\n",
    "\n",
    "mapping_win = {'R':'P', 'P':'S', 'S':'R'}\n",
    "mapping_lose = {'R':'S', 'P':'R', 'S':'P'}\n",
    "\n",
    "your_score = 0\n",
    "\n",
    "for c in range(len(my_input)):\n",
    "    elf_choice = mapping[my_input[c][0]]\n",
    "    your_outcome = mapping[my_input[c][-1]]\n",
    "    #print('Round', c+1)\n",
    "    #print('Elf says', elf_choice)\n",
    "    #print('You need to', your_outcome)\n",
    "    \n",
    "    your_score += mapping[your_outcome]\n",
    "    #print('Your score is now', your_score)\n",
    "    \n",
    "    if your_outcome == 'D':\n",
    "        your_score += mapping[elf_choice]\n",
    "    elif your_outcome == 'W':\n",
    "        your_score += mapping[mapping_win[elf_choice]]\n",
    "    else:\n",
    "        your_score += mapping[mapping_lose[elf_choice]]\n",
    "    #print('Your score:', your_score)\n",
    "    #print('-----')\n",
    "print('Final score:', your_score, 'points')"
   ]
  },
  {
   "cell_type": "markdown",
   "id": "b2174494",
   "metadata": {},
   "source": [
    "### Run Time"
   ]
  },
  {
   "cell_type": "code",
   "execution_count": 6,
   "id": "2a2f35a1",
   "metadata": {},
   "outputs": [
    {
     "name": "stdout",
     "output_type": "stream",
     "text": [
      "5.75 ms ± 1.93 ms per loop (mean ± std. dev. of 7 runs, 100 loops each)\n"
     ]
    }
   ],
   "source": [
    "%%timeit\n",
    "mapping = {'A':'R', 'B':'P', 'C':'S', 'X':'R', 'Y':'P', 'Z':'S', 'R':1, 'P':2, 'S':3}\n",
    "your_score = 0\n",
    "\n",
    "for c in range(len(my_input)):\n",
    "    elf_choice = mapping[my_input[c][0]]\n",
    "    your_choice = mapping[my_input[c][-1]]\n",
    "    # print('Round', c+1)\n",
    "    # print('Elf says', elf_choice)\n",
    "    # print('You say', your_choice, 'and you gain', mapping[your_choice], 'points!')\n",
    "    your_score += mapping[your_choice]\n",
    "    if ( (elf_choice == 'S' and your_choice == 'R') or\n",
    "         (elf_choice == 'P' and your_choice == 'S') or\n",
    "         (elf_choice == 'R' and your_choice == 'P') ):\n",
    "        # print('You win! - 6 points')\n",
    "        your_score += 6\n",
    "    elif elf_choice == your_choice:\n",
    "        # print('You draw! - 3 points')\n",
    "        your_score += 3\n",
    "    else:\n",
    "        None\n",
    "        # print('You lose! - 0 points')\n",
    "    # print('Your score:', your_score)\n",
    "    # print('-----')\n",
    "#print('Final score:', your_score, 'points')"
   ]
  },
  {
   "cell_type": "code",
   "execution_count": 7,
   "id": "16d9d48c",
   "metadata": {},
   "outputs": [
    {
     "name": "stdout",
     "output_type": "stream",
     "text": [
      "2.49 ms ± 601 µs per loop (mean ± std. dev. of 7 runs, 100 loops each)\n"
     ]
    }
   ],
   "source": [
    "%%timeit\n",
    "mapping = {'A':'R', 'B':'P', 'C':'S', 'X':'L', 'Y':'D', 'Z':'W', 'R':1, 'P':2, 'S':3, 'W':6, 'D':3, 'L':0}\n",
    "\n",
    "mapping_win = {'R':'P', 'P':'S', 'S':'R'}\n",
    "mapping_lose = {'R':'S', 'P':'R', 'S':'P'}\n",
    "\n",
    "your_score = 0\n",
    "\n",
    "for c in range(len(my_input)):\n",
    "    elf_choice = mapping[my_input[c][0]]\n",
    "    your_outcome = mapping[my_input[c][-1]]\n",
    "    #print('Round', c+1)\n",
    "    #print('Elf says', elf_choice)\n",
    "    #print('You need to', your_outcome)\n",
    "    \n",
    "    your_score += mapping[your_outcome]\n",
    "    #print('Your score is now', your_score)\n",
    "    \n",
    "    if your_outcome == 'D':\n",
    "        your_score += mapping[elf_choice]\n",
    "    elif your_outcome == 'W':\n",
    "        your_score += mapping[mapping_win[elf_choice]]\n",
    "    else:\n",
    "        your_score += mapping[mapping_lose[elf_choice]]\n",
    "    #print('Your score:', your_score)\n",
    "    #print('-----')\n",
    "#print('Final score:', your_score, 'points')"
   ]
  }
 ],
 "metadata": {
  "kernelspec": {
   "display_name": "Python 3 (ipykernel)",
   "language": "python",
   "name": "python3"
  },
  "language_info": {
   "codemirror_mode": {
    "name": "ipython",
    "version": 3
   },
   "file_extension": ".py",
   "mimetype": "text/x-python",
   "name": "python",
   "nbconvert_exporter": "python",
   "pygments_lexer": "ipython3",
   "version": "3.8.8"
  }
 },
 "nbformat": 4,
 "nbformat_minor": 5
}
